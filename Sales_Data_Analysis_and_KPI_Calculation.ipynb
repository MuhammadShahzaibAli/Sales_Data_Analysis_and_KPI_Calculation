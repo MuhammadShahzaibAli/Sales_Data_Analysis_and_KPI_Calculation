{
 "cells": [
  {
   "cell_type": "markdown",
   "id": "734f23fb",
   "metadata": {},
   "source": [
    "# Sales Data Analysis and KPI Calculation"
   ]
  },
  {
   "cell_type": "code",
   "execution_count": 1,
   "id": "874c5b25",
   "metadata": {},
   "outputs": [],
   "source": [
    "import sqlite3\n",
    "import pandas as pd\n",
    "import matplotlib.pyplot as plt"
   ]
  },
  {
   "cell_type": "code",
   "execution_count": 2,
   "id": "92d0280e",
   "metadata": {},
   "outputs": [],
   "source": [
    "%load_ext sql"
   ]
  },
  {
   "cell_type": "code",
   "execution_count": 3,
   "id": "051a7275",
   "metadata": {},
   "outputs": [],
   "source": [
    "con = \"sqlite:///wolt_bi\"\n",
    "%sql $con"
   ]
  },
  {
   "cell_type": "code",
   "execution_count": 6,
   "id": "fcefaefb",
   "metadata": {},
   "outputs": [
    {
     "data": {
      "text/plain": [
       "1039559"
      ]
     },
     "execution_count": 6,
     "metadata": {},
     "output_type": "execute_result"
    }
   ],
   "source": [
    "# Reading csv files to panda dataframes\n",
    "\n",
    "purchase_data=pd.read_csv('../bi_intern_assignment_data/bi_intern_assignment_data/purchase_data_final.csv')\n",
    "purchase_item_data=pd.read_csv('../bi_intern_assignment_data/bi_intern_assignment_data/purchase_item_data_final.csv')\n",
    "item_data=pd.read_csv('../bi_intern_assignment_data/bi_intern_assignment_data/item_data.csv')\n",
    "\n",
    "\n",
    "# import dataframes into database\n",
    "\n",
    "purchase_data.to_sql('purchase_data', sqlite3.connect('wolt_bi'))\n",
    "purchase_item_data.to_sql('purchase_item_data', sqlite3.connect('wolt_bi'))\n",
    "item_data.to_sql('item_data', sqlite3.connect('wolt_bi'))"
   ]
  },
  {
   "cell_type": "code",
   "execution_count": 8,
   "id": "bbf3a921",
   "metadata": {},
   "outputs": [
    {
     "name": "stdout",
     "output_type": "stream",
     "text": [
      " * sqlite:///wolt_bi\n",
      "Done.\n"
     ]
    },
    {
     "data": {
      "text/html": [
       "<table>\n",
       "    <tr>\n",
       "        <th>index</th>\n",
       "        <th>Unnamed: 0</th>\n",
       "        <th>PURCHASE_ID</th>\n",
       "        <th>TIME_RECEIVED</th>\n",
       "        <th>TIME_DELIVERED</th>\n",
       "        <th>CURRENCY</th>\n",
       "        <th>COUNTRY</th>\n",
       "        <th>VENUE_ID</th>\n",
       "    </tr>\n",
       "    <tr>\n",
       "        <td>0</td>\n",
       "        <td>0</td>\n",
       "        <td>c766bf63dc</td>\n",
       "        <td>2022-07-14 06:01:34.426</td>\n",
       "        <td>2022-07-14 06:30:11.423</td>\n",
       "        <td>CZK</td>\n",
       "        <td>CZE</td>\n",
       "        <td>691d84b2f9</td>\n",
       "    </tr>\n",
       "    <tr>\n",
       "        <td>1</td>\n",
       "        <td>1</td>\n",
       "        <td>97b4d66216</td>\n",
       "        <td>2022-07-14 08:02:15.789</td>\n",
       "        <td>2022-07-14 08:28:26.345</td>\n",
       "        <td>CZK</td>\n",
       "        <td>CZE</td>\n",
       "        <td>691d84b2f9</td>\n",
       "    </tr>\n",
       "    <tr>\n",
       "        <td>2</td>\n",
       "        <td>2</td>\n",
       "        <td>9cadf4d3c4</td>\n",
       "        <td>2022-07-14 06:02:36.614</td>\n",
       "        <td>2022-07-14 06:30:02.425</td>\n",
       "        <td>CZK</td>\n",
       "        <td>CZE</td>\n",
       "        <td>691d84b2f9</td>\n",
       "    </tr>\n",
       "    <tr>\n",
       "        <td>3</td>\n",
       "        <td>3</td>\n",
       "        <td>66cf34e8d3</td>\n",
       "        <td>2022-07-14 14:04:45.640</td>\n",
       "        <td>2022-07-14 14:35:00.264</td>\n",
       "        <td>CZK</td>\n",
       "        <td>CZE</td>\n",
       "        <td>691d84b2f9</td>\n",
       "    </tr>\n",
       "    <tr>\n",
       "        <td>4</td>\n",
       "        <td>4</td>\n",
       "        <td>94fac08438</td>\n",
       "        <td>2022-07-14 19:04:46.876</td>\n",
       "        <td>2022-07-14 19:26:16.940</td>\n",
       "        <td>CZK</td>\n",
       "        <td>CZE</td>\n",
       "        <td>691d84b2f9</td>\n",
       "    </tr>\n",
       "    <tr>\n",
       "        <td>5</td>\n",
       "        <td>5</td>\n",
       "        <td>ebbeb05442</td>\n",
       "        <td>2022-07-14 06:05:02.972</td>\n",
       "        <td>2022-07-14 06:37:53.363</td>\n",
       "        <td>CZK</td>\n",
       "        <td>CZE</td>\n",
       "        <td>691d84b2f9</td>\n",
       "    </tr>\n",
       "    <tr>\n",
       "        <td>6</td>\n",
       "        <td>6</td>\n",
       "        <td>d0d8f3f58f</td>\n",
       "        <td>2022-07-14 07:06:01.765</td>\n",
       "        <td>2022-07-14 07:23:27.766</td>\n",
       "        <td>CZK</td>\n",
       "        <td>CZE</td>\n",
       "        <td>691d84b2f9</td>\n",
       "    </tr>\n",
       "    <tr>\n",
       "        <td>7</td>\n",
       "        <td>7</td>\n",
       "        <td>8b47d8538a</td>\n",
       "        <td>2022-07-14 12:07:45.994</td>\n",
       "        <td>2022-07-14 12:28:48.297</td>\n",
       "        <td>CZK</td>\n",
       "        <td>CZE</td>\n",
       "        <td>691d84b2f9</td>\n",
       "    </tr>\n",
       "    <tr>\n",
       "        <td>8</td>\n",
       "        <td>8</td>\n",
       "        <td>247223c02a</td>\n",
       "        <td>2022-07-14 09:08:18.421</td>\n",
       "        <td>2022-07-14 09:37:48.296</td>\n",
       "        <td>CZK</td>\n",
       "        <td>CZE</td>\n",
       "        <td>691d84b2f9</td>\n",
       "    </tr>\n",
       "    <tr>\n",
       "        <td>9</td>\n",
       "        <td>9</td>\n",
       "        <td>f601fcfef5</td>\n",
       "        <td>2022-07-14 12:09:36.258</td>\n",
       "        <td>2022-07-14 12:23:11.041</td>\n",
       "        <td>CZK</td>\n",
       "        <td>CZE</td>\n",
       "        <td>691d84b2f9</td>\n",
       "    </tr>\n",
       "</table>"
      ],
      "text/plain": [
       "[(0, 0, 'c766bf63dc', '2022-07-14 06:01:34.426', '2022-07-14 06:30:11.423', 'CZK', 'CZE', '691d84b2f9'),\n",
       " (1, 1, '97b4d66216', '2022-07-14 08:02:15.789', '2022-07-14 08:28:26.345', 'CZK', 'CZE', '691d84b2f9'),\n",
       " (2, 2, '9cadf4d3c4', '2022-07-14 06:02:36.614', '2022-07-14 06:30:02.425', 'CZK', 'CZE', '691d84b2f9'),\n",
       " (3, 3, '66cf34e8d3', '2022-07-14 14:04:45.640', '2022-07-14 14:35:00.264', 'CZK', 'CZE', '691d84b2f9'),\n",
       " (4, 4, '94fac08438', '2022-07-14 19:04:46.876', '2022-07-14 19:26:16.940', 'CZK', 'CZE', '691d84b2f9'),\n",
       " (5, 5, 'ebbeb05442', '2022-07-14 06:05:02.972', '2022-07-14 06:37:53.363', 'CZK', 'CZE', '691d84b2f9'),\n",
       " (6, 6, 'd0d8f3f58f', '2022-07-14 07:06:01.765', '2022-07-14 07:23:27.766', 'CZK', 'CZE', '691d84b2f9'),\n",
       " (7, 7, '8b47d8538a', '2022-07-14 12:07:45.994', '2022-07-14 12:28:48.297', 'CZK', 'CZE', '691d84b2f9'),\n",
       " (8, 8, '247223c02a', '2022-07-14 09:08:18.421', '2022-07-14 09:37:48.296', 'CZK', 'CZE', '691d84b2f9'),\n",
       " (9, 9, 'f601fcfef5', '2022-07-14 12:09:36.258', '2022-07-14 12:23:11.041', 'CZK', 'CZE', '691d84b2f9')]"
      ]
     },
     "execution_count": 8,
     "metadata": {},
     "output_type": "execute_result"
    }
   ],
   "source": [
    "%%sql\n",
    "SELECT * FROM purchase_data LIMIT 10"
   ]
  },
  {
   "cell_type": "code",
   "execution_count": 9,
   "id": "9b20d8e7",
   "metadata": {},
   "outputs": [
    {
     "name": "stdout",
     "output_type": "stream",
     "text": [
      " * sqlite:///wolt_bi\n",
      "Done.\n"
     ]
    },
    {
     "data": {
      "text/html": [
       "<table>\n",
       "    <tr>\n",
       "        <th>index</th>\n",
       "        <th>Unnamed: 0</th>\n",
       "        <th>PRODUCT_ID</th>\n",
       "        <th>PURCHASE_ID</th>\n",
       "        <th>COUNT</th>\n",
       "        <th>VENUE_ID</th>\n",
       "        <th>BASEPRICE</th>\n",
       "        <th>VAT_PERCENTAGE</th>\n",
       "    </tr>\n",
       "    <tr>\n",
       "        <td>0</td>\n",
       "        <td>0</td>\n",
       "        <td>0e67b01e73</td>\n",
       "        <td>8d729f3e3a</td>\n",
       "        <td>1</td>\n",
       "        <td>5be413ed1f</td>\n",
       "        <td>1.19</td>\n",
       "        <td>20.0</td>\n",
       "    </tr>\n",
       "    <tr>\n",
       "        <td>1</td>\n",
       "        <td>1</td>\n",
       "        <td>24f9c620c6</td>\n",
       "        <td>8d729f3e3a</td>\n",
       "        <td>1</td>\n",
       "        <td>5be413ed1f</td>\n",
       "        <td>2.49</td>\n",
       "        <td>20.0</td>\n",
       "    </tr>\n",
       "    <tr>\n",
       "        <td>2</td>\n",
       "        <td>2</td>\n",
       "        <td>27e0da88f2</td>\n",
       "        <td>8d729f3e3a</td>\n",
       "        <td>1</td>\n",
       "        <td>5be413ed1f</td>\n",
       "        <td>2.59</td>\n",
       "        <td>20.0</td>\n",
       "    </tr>\n",
       "    <tr>\n",
       "        <td>3</td>\n",
       "        <td>3</td>\n",
       "        <td>7ab5d8bbe6</td>\n",
       "        <td>8d729f3e3a</td>\n",
       "        <td>1</td>\n",
       "        <td>5be413ed1f</td>\n",
       "        <td>2.69</td>\n",
       "        <td>20.0</td>\n",
       "    </tr>\n",
       "    <tr>\n",
       "        <td>4</td>\n",
       "        <td>19</td>\n",
       "        <td>2b21ae2ec0</td>\n",
       "        <td>dbc88373f6</td>\n",
       "        <td>6</td>\n",
       "        <td>5c47e55304</td>\n",
       "        <td>22.95</td>\n",
       "        <td>25.0</td>\n",
       "    </tr>\n",
       "    <tr>\n",
       "        <td>5</td>\n",
       "        <td>20</td>\n",
       "        <td>0ba3c3e7e2</td>\n",
       "        <td>dbc88373f6</td>\n",
       "        <td>2</td>\n",
       "        <td>5c47e55304</td>\n",
       "        <td>34.5</td>\n",
       "        <td>25.0</td>\n",
       "    </tr>\n",
       "    <tr>\n",
       "        <td>6</td>\n",
       "        <td>21</td>\n",
       "        <td>ddd557d878</td>\n",
       "        <td>dbc88373f6</td>\n",
       "        <td>2</td>\n",
       "        <td>5c47e55304</td>\n",
       "        <td>19.5</td>\n",
       "        <td>25.0</td>\n",
       "    </tr>\n",
       "    <tr>\n",
       "        <td>7</td>\n",
       "        <td>22</td>\n",
       "        <td>f9c4a9933e</td>\n",
       "        <td>dbc88373f6</td>\n",
       "        <td>1</td>\n",
       "        <td>5c47e55304</td>\n",
       "        <td>21.5</td>\n",
       "        <td>25.0</td>\n",
       "    </tr>\n",
       "    <tr>\n",
       "        <td>8</td>\n",
       "        <td>24</td>\n",
       "        <td>ec423edaa2</td>\n",
       "        <td>dbc88373f6</td>\n",
       "        <td>8</td>\n",
       "        <td>5c47e55304</td>\n",
       "        <td>20.95</td>\n",
       "        <td>25.0</td>\n",
       "    </tr>\n",
       "    <tr>\n",
       "        <td>9</td>\n",
       "        <td>25</td>\n",
       "        <td>8df279ab62</td>\n",
       "        <td>dbc88373f6</td>\n",
       "        <td>1</td>\n",
       "        <td>5c47e55304</td>\n",
       "        <td>35.95</td>\n",
       "        <td>25.0</td>\n",
       "    </tr>\n",
       "</table>"
      ],
      "text/plain": [
       "[(0, 0, '0e67b01e73', '8d729f3e3a', 1, '5be413ed1f', 1.19, 20.0),\n",
       " (1, 1, '24f9c620c6', '8d729f3e3a', 1, '5be413ed1f', 2.49, 20.0),\n",
       " (2, 2, '27e0da88f2', '8d729f3e3a', 1, '5be413ed1f', 2.59, 20.0),\n",
       " (3, 3, '7ab5d8bbe6', '8d729f3e3a', 1, '5be413ed1f', 2.69, 20.0),\n",
       " (4, 19, '2b21ae2ec0', 'dbc88373f6', 6, '5c47e55304', 22.95, 25.0),\n",
       " (5, 20, '0ba3c3e7e2', 'dbc88373f6', 2, '5c47e55304', 34.5, 25.0),\n",
       " (6, 21, 'ddd557d878', 'dbc88373f6', 2, '5c47e55304', 19.5, 25.0),\n",
       " (7, 22, 'f9c4a9933e', 'dbc88373f6', 1, '5c47e55304', 21.5, 25.0),\n",
       " (8, 24, 'ec423edaa2', 'dbc88373f6', 8, '5c47e55304', 20.95, 25.0),\n",
       " (9, 25, '8df279ab62', 'dbc88373f6', 1, '5c47e55304', 35.95, 25.0)]"
      ]
     },
     "execution_count": 9,
     "metadata": {},
     "output_type": "execute_result"
    }
   ],
   "source": [
    "%%sql\n",
    "SELECT * FROM purchase_item_data LIMIT 10"
   ]
  },
  {
   "cell_type": "code",
   "execution_count": 16,
   "id": "8097a3b9",
   "metadata": {},
   "outputs": [
    {
     "name": "stdout",
     "output_type": "stream",
     "text": [
      " * sqlite:///wolt_bi\n",
      "Done.\n"
     ]
    },
    {
     "data": {
      "text/html": [
       "<table>\n",
       "    <tr>\n",
       "        <th>index</th>\n",
       "        <th>Unnamed: 0</th>\n",
       "        <th>VENUE_ID</th>\n",
       "        <th>TIMESTAMP</th>\n",
       "        <th>BRAND</th>\n",
       "        <th>MANUFACTURER</th>\n",
       "        <th>COST_PER_UNIT</th>\n",
       "        <th>COST_PER_UNIT_EUR</th>\n",
       "        <th>CURRENCY</th>\n",
       "        <th>APPLICABLE_TAX_PERC</th>\n",
       "        <th>PRODUCT_ID</th>\n",
       "        <th>ITEM_IDENTIFIER</th>\n",
       "        <th>EXTERNAL_ID</th>\n",
       "    </tr>\n",
       "    <tr>\n",
       "        <td>0</td>\n",
       "        <td>0</td>\n",
       "        <td>389290dde1</td>\n",
       "        <td>2022-02-01 00:00:00</td>\n",
       "        <td>None</td>\n",
       "        <td>Tern1</td>\n",
       "        <td>3.72</td>\n",
       "        <td>3.72</td>\n",
       "        <td>EUR</td>\n",
       "        <td>0.2</td>\n",
       "        <td>1e4998ae71</td>\n",
       "        <td>b10f899028</td>\n",
       "        <td>None</td>\n",
       "    </tr>\n",
       "    <tr>\n",
       "        <td>1</td>\n",
       "        <td>1</td>\n",
       "        <td>43448c7715</td>\n",
       "        <td>None</td>\n",
       "        <td>None</td>\n",
       "        <td>None</td>\n",
       "        <td>24.8</td>\n",
       "        <td>1.0401153185919356</td>\n",
       "        <td>CZK</td>\n",
       "        <td>0.15</td>\n",
       "        <td>None</td>\n",
       "        <td>ee7a992cac</td>\n",
       "        <td>None</td>\n",
       "    </tr>\n",
       "    <tr>\n",
       "        <td>2</td>\n",
       "        <td>2</td>\n",
       "        <td>6adc2fbb91</td>\n",
       "        <td>None</td>\n",
       "        <td>Grøn Balance</td>\n",
       "        <td>VALSEMØLLEN A/S PRIVATE LABEL</td>\n",
       "        <td>6.74</td>\n",
       "        <td>0.9060928831243696</td>\n",
       "        <td>DKK</td>\n",
       "        <td>0.25</td>\n",
       "        <td>740ede1018</td>\n",
       "        <td>3ea9f51fb7</td>\n",
       "        <td>None</td>\n",
       "    </tr>\n",
       "    <tr>\n",
       "        <td>3</td>\n",
       "        <td>3</td>\n",
       "        <td>9900b487b1</td>\n",
       "        <td>2022-09-13 00:00:00</td>\n",
       "        <td>ACTIVIA</td>\n",
       "        <td>UAB Eugesta, Kibirkšties g. 8. Vilnius</td>\n",
       "        <td>1.56</td>\n",
       "        <td>1.56</td>\n",
       "        <td>EUR</td>\n",
       "        <td>0.21</td>\n",
       "        <td>e0c1503a4a</td>\n",
       "        <td>16feda8e89</td>\n",
       "        <td>c6105d7e2a</td>\n",
       "    </tr>\n",
       "    <tr>\n",
       "        <td>4</td>\n",
       "        <td>4</td>\n",
       "        <td>80ec4c53da</td>\n",
       "        <td>2022-01-01 00:00:00</td>\n",
       "        <td>ACTIVIA</td>\n",
       "        <td>None</td>\n",
       "        <td>466.0</td>\n",
       "        <td>1.1289365262633262</td>\n",
       "        <td>HUF</td>\n",
       "        <td>0.18</td>\n",
       "        <td>edd05a3886</td>\n",
       "        <td>cc2c5e45fc</td>\n",
       "        <td>None</td>\n",
       "    </tr>\n",
       "    <tr>\n",
       "        <td>5</td>\n",
       "        <td>5</td>\n",
       "        <td>de707394bc</td>\n",
       "        <td>2021-12-01 00:00:00</td>\n",
       "        <td>Vitamineral</td>\n",
       "        <td>Y</td>\n",
       "        <td>0.74</td>\n",
       "        <td>0.74</td>\n",
       "        <td>EUR</td>\n",
       "        <td>0.2</td>\n",
       "        <td>None</td>\n",
       "        <td>a707a54455</td>\n",
       "        <td>None</td>\n",
       "    </tr>\n",
       "    <tr>\n",
       "        <td>6</td>\n",
       "        <td>6</td>\n",
       "        <td>4332da8cb2</td>\n",
       "        <td>2022-06-29 00:00:00</td>\n",
       "        <td>Corny</td>\n",
       "        <td>Schwartau</td>\n",
       "        <td>1.5092</td>\n",
       "        <td>1.5092</td>\n",
       "        <td>EUR</td>\n",
       "        <td>0.095</td>\n",
       "        <td>f12b27b7dd</td>\n",
       "        <td>100da60788</td>\n",
       "        <td>None</td>\n",
       "    </tr>\n",
       "    <tr>\n",
       "        <td>7</td>\n",
       "        <td>7</td>\n",
       "        <td>a3bd22fac6</td>\n",
       "        <td>2022-11-03 00:00:00</td>\n",
       "        <td>TOMS</td>\n",
       "        <td>TOMS SVERIGE AB</td>\n",
       "        <td>7.48</td>\n",
       "        <td>0.6859816980449798</td>\n",
       "        <td>SEK</td>\n",
       "        <td>0.12</td>\n",
       "        <td>bda61dd510</td>\n",
       "        <td>2bc1b00ef0</td>\n",
       "        <td>None</td>\n",
       "    </tr>\n",
       "    <tr>\n",
       "        <td>8</td>\n",
       "        <td>8</td>\n",
       "        <td>80ec4c53da</td>\n",
       "        <td>2022-12-01 00:00:00</td>\n",
       "        <td>Milka</td>\n",
       "        <td>None</td>\n",
       "        <td>2518.0</td>\n",
       "        <td>6.248548152442409</td>\n",
       "        <td>HUF</td>\n",
       "        <td>0.27</td>\n",
       "        <td>2ca96809c3</td>\n",
       "        <td>4d2a6395a8</td>\n",
       "        <td>None</td>\n",
       "    </tr>\n",
       "    <tr>\n",
       "        <td>9</td>\n",
       "        <td>9</td>\n",
       "        <td>e6858c2a86</td>\n",
       "        <td>2022-08-29 00:00:00</td>\n",
       "        <td>None</td>\n",
       "        <td>None</td>\n",
       "        <td>3.36</td>\n",
       "        <td>3.36</td>\n",
       "        <td>EUR</td>\n",
       "        <td>0.0</td>\n",
       "        <td>1cd5ab06ea</td>\n",
       "        <td>e343b0ff03</td>\n",
       "        <td>None</td>\n",
       "    </tr>\n",
       "</table>"
      ],
      "text/plain": [
       "[(0, 0, '389290dde1', '2022-02-01 00:00:00', None, 'Tern1', 3.72, 3.72, 'EUR', 0.2, '1e4998ae71', 'b10f899028', None),\n",
       " (1, 1, '43448c7715', None, None, None, 24.8, 1.0401153185919356, 'CZK', 0.15, None, 'ee7a992cac', None),\n",
       " (2, 2, '6adc2fbb91', None, 'Grøn Balance', 'VALSEMØLLEN A/S PRIVATE LABEL', 6.74, 0.9060928831243696, 'DKK', 0.25, '740ede1018', '3ea9f51fb7', None),\n",
       " (3, 3, '9900b487b1', '2022-09-13 00:00:00', 'ACTIVIA', 'UAB Eugesta, Kibirkšties g. 8. Vilnius', 1.56, 1.56, 'EUR', 0.21, 'e0c1503a4a', '16feda8e89', 'c6105d7e2a'),\n",
       " (4, 4, '80ec4c53da', '2022-01-01 00:00:00', 'ACTIVIA', None, 466.0, 1.1289365262633262, 'HUF', 0.18, 'edd05a3886', 'cc2c5e45fc', None),\n",
       " (5, 5, 'de707394bc', '2021-12-01 00:00:00', 'Vitamineral', 'Y', 0.74, 0.74, 'EUR', 0.2, None, 'a707a54455', None),\n",
       " (6, 6, '4332da8cb2', '2022-06-29 00:00:00', 'Corny', 'Schwartau', 1.5092, 1.5092, 'EUR', 0.095, 'f12b27b7dd', '100da60788', None),\n",
       " (7, 7, 'a3bd22fac6', '2022-11-03 00:00:00', 'TOMS', 'TOMS SVERIGE AB', 7.48, 0.6859816980449798, 'SEK', 0.12, 'bda61dd510', '2bc1b00ef0', None),\n",
       " (8, 8, '80ec4c53da', '2022-12-01 00:00:00', 'Milka', None, 2518.0, 6.248548152442409, 'HUF', 0.27, '2ca96809c3', '4d2a6395a8', None),\n",
       " (9, 9, 'e6858c2a86', '2022-08-29 00:00:00', None, None, 3.36, 3.36, 'EUR', 0.0, '1cd5ab06ea', 'e343b0ff03', None)]"
      ]
     },
     "execution_count": 16,
     "metadata": {},
     "output_type": "execute_result"
    }
   ],
   "source": [
    "%%sql\n",
    "SELECT * FROM item_data LIMIT 10"
   ]
  },
  {
   "cell_type": "code",
   "execution_count": 17,
   "id": "b70b82a4",
   "metadata": {},
   "outputs": [
    {
     "name": "stdout",
     "output_type": "stream",
     "text": [
      " * sqlite:///wolt_bi\n",
      "Done.\n"
     ]
    },
    {
     "data": {
      "text/html": [
       "<table>\n",
       "    <tr>\n",
       "        <th>COUNT(*)</th>\n",
       "    </tr>\n",
       "    <tr>\n",
       "        <td>483094</td>\n",
       "    </tr>\n",
       "</table>"
      ],
      "text/plain": [
       "[(483094,)]"
      ]
     },
     "execution_count": 17,
     "metadata": {},
     "output_type": "execute_result"
    }
   ],
   "source": [
    "%%sql\n",
    "\n",
    "SELECT COUNT(*) FROM item_data WHERE PRODUCT_ID IS NULL"
   ]
  },
  {
   "cell_type": "code",
   "execution_count": 18,
   "id": "a76a5365",
   "metadata": {},
   "outputs": [
    {
     "name": "stdout",
     "output_type": "stream",
     "text": [
      " * sqlite:///wolt_bi\n",
      "Done.\n"
     ]
    },
    {
     "data": {
      "text/html": [
       "<table>\n",
       "    <tr>\n",
       "        <th>COUNT(*)</th>\n",
       "    </tr>\n",
       "    <tr>\n",
       "        <td>7481</td>\n",
       "    </tr>\n",
       "</table>"
      ],
      "text/plain": [
       "[(7481,)]"
      ]
     },
     "execution_count": 18,
     "metadata": {},
     "output_type": "execute_result"
    }
   ],
   "source": [
    "%%sql\n",
    "\n",
    "SELECT COUNT(*) FROM item_data WHERE COST_PER_UNIT IS NULL and PRODUCT_ID IS NOT NULL"
   ]
  },
  {
   "cell_type": "code",
   "execution_count": 19,
   "id": "9c01a53a",
   "metadata": {},
   "outputs": [
    {
     "name": "stdout",
     "output_type": "stream",
     "text": [
      " * sqlite:///wolt_bi\n",
      "(sqlite3.OperationalError) table currency_conversion already exists\n",
      "[SQL: CREATE TABLE currency_conversion AS\n",
      "SELECT CURRENCY,AVG(COST_PER_UNIT_EUR/COST_PER_UNIT) as CONVERSION_FAC_EUR FROM item_data GROUP BY CURRENCY]\n",
      "(Background on this error at: https://sqlalche.me/e/14/e3q8)\n"
     ]
    }
   ],
   "source": [
    "%%sql\n",
    "\n",
    "\n",
    "CREATE TABLE currency_conversion AS\n",
    "SELECT CURRENCY,AVG(COST_PER_UNIT_EUR/COST_PER_UNIT) as CONVERSION_FAC_EUR FROM item_data GROUP BY CURRENCY"
   ]
  },
  {
   "cell_type": "markdown",
   "id": "0f827c6e",
   "metadata": {},
   "source": [
    "### TASK 1"
   ]
  },
  {
   "cell_type": "code",
   "execution_count": 20,
   "id": "2898579a",
   "metadata": {},
   "outputs": [
    {
     "name": "stdout",
     "output_type": "stream",
     "text": [
      " * sqlite:///wolt_bi\n",
      "Done.\n"
     ]
    },
    {
     "data": {
      "text/html": [
       "<table>\n",
       "    <tr>\n",
       "        <th>CURRENCY</th>\n",
       "        <th>CONVERSION_FAC_EUR</th>\n",
       "    </tr>\n",
       "    <tr>\n",
       "        <td>None</td>\n",
       "        <td>0.0</td>\n",
       "    </tr>\n",
       "    <tr>\n",
       "        <td>AZN</td>\n",
       "        <td>0.5726940011999102</td>\n",
       "    </tr>\n",
       "    <tr>\n",
       "        <td>CZK</td>\n",
       "        <td>0.04118308866319196</td>\n",
       "    </tr>\n",
       "    <tr>\n",
       "        <td>DKK</td>\n",
       "        <td>0.13443598566125228</td>\n",
       "    </tr>\n",
       "    <tr>\n",
       "        <td>EUR</td>\n",
       "        <td>1.0</td>\n",
       "    </tr>\n",
       "</table>"
      ],
      "text/plain": [
       "[(None, 0.0),\n",
       " ('AZN', 0.5726940011999102),\n",
       " ('CZK', 0.04118308866319196),\n",
       " ('DKK', 0.13443598566125228),\n",
       " ('EUR', 1.0)]"
      ]
     },
     "execution_count": 20,
     "metadata": {},
     "output_type": "execute_result"
    }
   ],
   "source": [
    "%%sql\n",
    "SELECT * FROM currency_conversion LIMIT 5"
   ]
  },
  {
   "cell_type": "code",
   "execution_count": 21,
   "id": "8d6b5ec3",
   "metadata": {},
   "outputs": [
    {
     "name": "stdout",
     "output_type": "stream",
     "text": [
      " * sqlite:///wolt_bi\n",
      "Done.\n"
     ]
    },
    {
     "data": {
      "text/html": [
       "<table>\n",
       "    <tr>\n",
       "        <th>PURCHASE_ID</th>\n",
       "        <th>TIME_RECEIVED</th>\n",
       "        <th>TIME_DELIVERED</th>\n",
       "        <th>CURRENCY</th>\n",
       "        <th>CURRENCY_1</th>\n",
       "        <th>CONVERSION_FAC_EUR</th>\n",
       "        <th>COUNTRY</th>\n",
       "        <th>VENUE_ID</th>\n",
       "        <th>ITEMS_PURCHASED</th>\n",
       "        <th>REVENUE_EUR</th>\n",
       "        <th>COST_EUR</th>\n",
       "        <th>TOTAL_PROFIT_EUR_PER_PURCHASE_ID</th>\n",
       "    </tr>\n",
       "    <tr>\n",
       "        <td>000023dc87</td>\n",
       "        <td>2022-09-21 10:01:34.651</td>\n",
       "        <td>2022-09-21 10:26:01.035</td>\n",
       "        <td>EUR</td>\n",
       "        <td>EUR</td>\n",
       "        <td>1.0</td>\n",
       "        <td>FIN</td>\n",
       "        <td>5069bf9875</td>\n",
       "        <td>32</td>\n",
       "        <td>72.39999999999998</td>\n",
       "        <td>53.364200000000004</td>\n",
       "        <td>18.93499999999997</td>\n",
       "    </tr>\n",
       "    <tr>\n",
       "        <td>0000890580</td>\n",
       "        <td>2022-12-11 16:06:11.737</td>\n",
       "        <td>2022-12-11 16:36:26.798</td>\n",
       "        <td>ILS</td>\n",
       "        <td>ILS</td>\n",
       "        <td>0.2759557422738131</td>\n",
       "        <td>ISR</td>\n",
       "        <td>b2c886cd0a</td>\n",
       "        <td>16</td>\n",
       "        <td>74.39766811702</td>\n",
       "        <td>42.457722639022066</td>\n",
       "        <td>31.198728354250477</td>\n",
       "    </tr>\n",
       "    <tr>\n",
       "        <td>0000e5eded</td>\n",
       "        <td>2022-10-20 12:02:05.514</td>\n",
       "        <td>2022-10-20 12:17:25.656</td>\n",
       "        <td>EUR</td>\n",
       "        <td>EUR</td>\n",
       "        <td>1.0</td>\n",
       "        <td>GRC</td>\n",
       "        <td>986fb70def</td>\n",
       "        <td>14</td>\n",
       "        <td>27.21</td>\n",
       "        <td>19.130499999999998</td>\n",
       "        <td>8.040500000000002</td>\n",
       "    </tr>\n",
       "    <tr>\n",
       "        <td>000167f209</td>\n",
       "        <td>2022-12-04 18:07:18.624</td>\n",
       "        <td>2022-12-04 18:34:37.306</td>\n",
       "        <td>EUR</td>\n",
       "        <td>EUR</td>\n",
       "        <td>1.0</td>\n",
       "        <td>CYP</td>\n",
       "        <td>ffda50ac8d</td>\n",
       "        <td>10</td>\n",
       "        <td>26.959999999999997</td>\n",
       "        <td>17.012999999999998</td>\n",
       "        <td>9.752999999999998</td>\n",
       "    </tr>\n",
       "    <tr>\n",
       "        <td>000196878a</td>\n",
       "        <td>2022-09-14 18:04:48.330</td>\n",
       "        <td>2022-09-14 18:33:34.633</td>\n",
       "        <td>EUR</td>\n",
       "        <td>EUR</td>\n",
       "        <td>1.0</td>\n",
       "        <td>LTU</td>\n",
       "        <td>9900b487b1</td>\n",
       "        <td>9</td>\n",
       "        <td>15.33</td>\n",
       "        <td>8.8976</td>\n",
       "        <td>5.827599999999999</td>\n",
       "    </tr>\n",
       "    <tr>\n",
       "        <td>0001d62c16</td>\n",
       "        <td>2022-12-25 10:01:04.748</td>\n",
       "        <td>2022-12-25 10:15:39.701</td>\n",
       "        <td>EUR</td>\n",
       "        <td>EUR</td>\n",
       "        <td>1.0</td>\n",
       "        <td>GRC</td>\n",
       "        <td>a86797f9f1</td>\n",
       "        <td>3</td>\n",
       "        <td>31.36</td>\n",
       "        <td>20.2226</td>\n",
       "        <td>10.622599999999998</td>\n",
       "    </tr>\n",
       "    <tr>\n",
       "        <td>0001fbf606</td>\n",
       "        <td>2022-07-06 15:07:31.942</td>\n",
       "        <td>2022-07-06 15:25:51.960</td>\n",
       "        <td>EUR</td>\n",
       "        <td>EUR</td>\n",
       "        <td>1.0</td>\n",
       "        <td>EST</td>\n",
       "        <td>5ee6d50d1a</td>\n",
       "        <td>6</td>\n",
       "        <td>11.64</td>\n",
       "        <td>6.630000000000001</td>\n",
       "        <td>3.89</td>\n",
       "    </tr>\n",
       "    <tr>\n",
       "        <td>0002453da9</td>\n",
       "        <td>2022-10-30 14:03:39.010</td>\n",
       "        <td>2022-10-30 14:31:52.879</td>\n",
       "        <td>EUR</td>\n",
       "        <td>EUR</td>\n",
       "        <td>1.0</td>\n",
       "        <td>CYP</td>\n",
       "        <td>9eb13b4899</td>\n",
       "        <td>9</td>\n",
       "        <td>22.929999999999996</td>\n",
       "        <td>17.146500000000003</td>\n",
       "        <td>5.416499999999994</td>\n",
       "    </tr>\n",
       "    <tr>\n",
       "        <td>00028b6fd9</td>\n",
       "        <td>2022-07-26 14:05:55.309</td>\n",
       "        <td>2022-07-26 14:19:27.643</td>\n",
       "        <td>EUR</td>\n",
       "        <td>EUR</td>\n",
       "        <td>1.0</td>\n",
       "        <td>EST</td>\n",
       "        <td>5ee6d50d1a</td>\n",
       "        <td>19</td>\n",
       "        <td>32.10999999999999</td>\n",
       "        <td>20.868000000000002</td>\n",
       "        <td>10.85799999999999</td>\n",
       "    </tr>\n",
       "    <tr>\n",
       "        <td>0002b500b8</td>\n",
       "        <td>2022-12-31 18:00:31.606</td>\n",
       "        <td>2022-12-31 18:48:05.256</td>\n",
       "        <td>RSD</td>\n",
       "        <td>RSD</td>\n",
       "        <td>0.008523890349789776</td>\n",
       "        <td>SRB</td>\n",
       "        <td>15911591dc</td>\n",
       "        <td>9</td>\n",
       "        <td>11.336774165220403</td>\n",
       "        <td>6.621954696041183</td>\n",
       "        <td>4.541954972885483</td>\n",
       "    </tr>\n",
       "</table>"
      ],
      "text/plain": [
       "[('000023dc87', '2022-09-21 10:01:34.651', '2022-09-21 10:26:01.035', 'EUR', 'EUR', 1.0, 'FIN', '5069bf9875', 32, 72.39999999999998, 53.364200000000004, 18.93499999999997),\n",
       " ('0000890580', '2022-12-11 16:06:11.737', '2022-12-11 16:36:26.798', 'ILS', 'ILS', 0.2759557422738131, 'ISR', 'b2c886cd0a', 16, 74.39766811702, 42.457722639022066, 31.198728354250477),\n",
       " ('0000e5eded', '2022-10-20 12:02:05.514', '2022-10-20 12:17:25.656', 'EUR', 'EUR', 1.0, 'GRC', '986fb70def', 14, 27.21, 19.130499999999998, 8.040500000000002),\n",
       " ('000167f209', '2022-12-04 18:07:18.624', '2022-12-04 18:34:37.306', 'EUR', 'EUR', 1.0, 'CYP', 'ffda50ac8d', 10, 26.959999999999997, 17.012999999999998, 9.752999999999998),\n",
       " ('000196878a', '2022-09-14 18:04:48.330', '2022-09-14 18:33:34.633', 'EUR', 'EUR', 1.0, 'LTU', '9900b487b1', 9, 15.33, 8.8976, 5.827599999999999),\n",
       " ('0001d62c16', '2022-12-25 10:01:04.748', '2022-12-25 10:15:39.701', 'EUR', 'EUR', 1.0, 'GRC', 'a86797f9f1', 3, 31.36, 20.2226, 10.622599999999998),\n",
       " ('0001fbf606', '2022-07-06 15:07:31.942', '2022-07-06 15:25:51.960', 'EUR', 'EUR', 1.0, 'EST', '5ee6d50d1a', 6, 11.64, 6.630000000000001, 3.89),\n",
       " ('0002453da9', '2022-10-30 14:03:39.010', '2022-10-30 14:31:52.879', 'EUR', 'EUR', 1.0, 'CYP', '9eb13b4899', 9, 22.929999999999996, 17.146500000000003, 5.416499999999994),\n",
       " ('00028b6fd9', '2022-07-26 14:05:55.309', '2022-07-26 14:19:27.643', 'EUR', 'EUR', 1.0, 'EST', '5ee6d50d1a', 19, 32.10999999999999, 20.868000000000002, 10.85799999999999),\n",
       " ('0002b500b8', '2022-12-31 18:00:31.606', '2022-12-31 18:48:05.256', 'RSD', 'RSD', 0.008523890349789776, 'SRB', '15911591dc', 9, 11.336774165220403, 6.621954696041183, 4.541954972885483)]"
      ]
     },
     "execution_count": 21,
     "metadata": {},
     "output_type": "execute_result"
    }
   ],
   "source": [
    "%%sql\n",
    "\n",
    "SELECT\n",
    "\n",
    "p.PURCHASE_ID,\n",
    "p.TIME_RECEIVED,\n",
    "p.TIME_DELIVERED,\n",
    "p.CURRENCY,\n",
    "it.CURRENCY,\n",
    "cc.CONVERSION_FAC_EUR,\n",
    "p.COUNTRY,\n",
    "p.VENUE_ID,\n",
    "\n",
    "SUM(pi.COUNT) as ITEMS_PURCHASED,\n",
    "\n",
    "SUM((pi.COUNT*((pi.BASEPRICE*cc.CONVERSION_FAC_EUR)))) as REVENUE_EUR,\n",
    "\n",
    "SUM((pi.COUNT*COALESCE((it.COST_PER_UNIT)*ccn.CONVERSION_FAC_EUR, it.COST_PER_UNIT_EUR)))-((COALESCE((it.COST_PER_UNIT)*ccn.CONVERSION_FAC_EUR, it.COST_PER_UNIT_EUR)*(it.APPLICABLE_TAX_PERC))) as COST_EUR,\n",
    "\n",
    "SUM((pi.COUNT*((pi.BASEPRICE*cc.CONVERSION_FAC_EUR)))) -\n",
    "SUM((pi.COUNT*COALESCE((it.COST_PER_UNIT)*ccn.CONVERSION_FAC_EUR, it.COST_PER_UNIT_EUR)))-((COALESCE((it.COST_PER_UNIT)*ccn.CONVERSION_FAC_EUR, it.COST_PER_UNIT_EUR)*(it.APPLICABLE_TAX_PERC))) as TOTAL_PROFIT_EUR_PER_PURCHASE_ID\n",
    "\n",
    "FROM purchase_data p\n",
    "\n",
    "INNER JOIN purchase_item_data pi\n",
    "\n",
    "ON p.PURCHASE_ID=pi.PURCHASE_ID AND p.VENUE_ID=pi.VENUE_ID\n",
    "\n",
    "INNER JOIN item_data it \n",
    "\n",
    "ON pi.PRODUCT_ID=it.PRODUCT_ID AND pi.VENUE_ID=it.VENUE_ID\n",
    "\n",
    "INNER JOIN currency_conversion cc\n",
    "\n",
    "ON p.CURRENCY=cc.CURRENCY\n",
    "\n",
    "INNER JOIN currency_conversion ccn\n",
    "\n",
    "ON it.CURRENCY=ccn.CURRENCY\n",
    "\n",
    "GROUP BY p.PURCHASE_ID LIMIT 10"
   ]
  },
  {
   "cell_type": "code",
   "execution_count": 22,
   "id": "67d0eef7",
   "metadata": {},
   "outputs": [
    {
     "name": "stdout",
     "output_type": "stream",
     "text": [
      " * sqlite:///wolt_bi\n",
      "Done.\n"
     ]
    },
    {
     "data": {
      "text/plain": [
       "[]"
      ]
     },
     "execution_count": 22,
     "metadata": {},
     "output_type": "execute_result"
    }
   ],
   "source": [
    "%%sql\n",
    "\n",
    "CREATE TABLE purchase_profit AS\n",
    "\n",
    "SELECT\n",
    "\n",
    "p.PURCHASE_ID,\n",
    "p.TIME_RECEIVED,\n",
    "p.TIME_DELIVERED,\n",
    "p.CURRENCY,\n",
    "it.CURRENCY,\n",
    "cc.CONVERSION_FAC_EUR,\n",
    "ccn.CONVERSION_FAC_EUR,\n",
    "p.COUNTRY,\n",
    "p.VENUE_ID,\n",
    "\n",
    "SUM(pi.COUNT) as ITEMS_PURCHASED,\n",
    "\n",
    "SUM((pi.COUNT*((pi.BASEPRICE*cc.CONVERSION_FAC_EUR)))) as REVENUE_EUR,\n",
    "\n",
    "SUM((pi.COUNT*COALESCE((it.COST_PER_UNIT)*ccn.CONVERSION_FAC_EUR, it.COST_PER_UNIT_EUR)))-((COALESCE((it.COST_PER_UNIT)*ccn.CONVERSION_FAC_EUR, it.COST_PER_UNIT_EUR)*(it.APPLICABLE_TAX_PERC))) as COST_EUR,\n",
    "\n",
    "SUM((pi.COUNT*((pi.BASEPRICE*cc.CONVERSION_FAC_EUR)))) -\n",
    "SUM((pi.COUNT*COALESCE((it.COST_PER_UNIT)*ccn.CONVERSION_FAC_EUR, it.COST_PER_UNIT_EUR)))-((COALESCE((it.COST_PER_UNIT)*ccn.CONVERSION_FAC_EUR, it.COST_PER_UNIT_EUR)*(it.APPLICABLE_TAX_PERC))) as TOTAL_PROFIT_EUR_PER_PURCHASE_ID\n",
    "\n",
    "FROM purchase_data p\n",
    "\n",
    "INNER JOIN purchase_item_data pi\n",
    "\n",
    "ON p.PURCHASE_ID=pi.PURCHASE_ID AND p.VENUE_ID=pi.VENUE_ID\n",
    "\n",
    "INNER JOIN item_data it \n",
    "\n",
    "ON pi.PRODUCT_ID=it.PRODUCT_ID AND pi.VENUE_ID=it.VENUE_ID\n",
    "\n",
    "INNER JOIN currency_conversion cc\n",
    "\n",
    "ON p.CURRENCY=cc.CURRENCY\n",
    "\n",
    "INNER JOIN currency_conversion ccn\n",
    "\n",
    "ON it.CURRENCY=ccn.CURRENCY\n",
    "\n",
    "GROUP BY p.PURCHASE_ID"
   ]
  },
  {
   "cell_type": "code",
   "execution_count": 23,
   "id": "26650e99",
   "metadata": {},
   "outputs": [
    {
     "name": "stdout",
     "output_type": "stream",
     "text": [
      " * sqlite:///wolt_bi\n",
      "Done.\n"
     ]
    },
    {
     "data": {
      "text/html": [
       "<table>\n",
       "    <tr>\n",
       "        <th>PURCHASE_ID</th>\n",
       "        <th>ITEMS_PURCHASED</th>\n",
       "        <th>TOTAL_PROFIT_EUR_PER_PURCHASE_ID</th>\n",
       "    </tr>\n",
       "    <tr>\n",
       "        <td>000023dc87</td>\n",
       "        <td>32</td>\n",
       "        <td>18.93499999999997</td>\n",
       "    </tr>\n",
       "    <tr>\n",
       "        <td>0000890580</td>\n",
       "        <td>16</td>\n",
       "        <td>31.198728354250477</td>\n",
       "    </tr>\n",
       "    <tr>\n",
       "        <td>0000e5eded</td>\n",
       "        <td>14</td>\n",
       "        <td>8.040500000000002</td>\n",
       "    </tr>\n",
       "    <tr>\n",
       "        <td>000167f209</td>\n",
       "        <td>10</td>\n",
       "        <td>9.752999999999998</td>\n",
       "    </tr>\n",
       "    <tr>\n",
       "        <td>000196878a</td>\n",
       "        <td>9</td>\n",
       "        <td>5.827599999999999</td>\n",
       "    </tr>\n",
       "    <tr>\n",
       "        <td>0001d62c16</td>\n",
       "        <td>3</td>\n",
       "        <td>10.622599999999998</td>\n",
       "    </tr>\n",
       "    <tr>\n",
       "        <td>0001fbf606</td>\n",
       "        <td>6</td>\n",
       "        <td>3.89</td>\n",
       "    </tr>\n",
       "    <tr>\n",
       "        <td>0002453da9</td>\n",
       "        <td>9</td>\n",
       "        <td>5.416499999999994</td>\n",
       "    </tr>\n",
       "    <tr>\n",
       "        <td>00028b6fd9</td>\n",
       "        <td>19</td>\n",
       "        <td>10.85799999999999</td>\n",
       "    </tr>\n",
       "    <tr>\n",
       "        <td>0002b500b8</td>\n",
       "        <td>9</td>\n",
       "        <td>4.541954972885483</td>\n",
       "    </tr>\n",
       "</table>"
      ],
      "text/plain": [
       "[('000023dc87', 32, 18.93499999999997),\n",
       " ('0000890580', 16, 31.198728354250477),\n",
       " ('0000e5eded', 14, 8.040500000000002),\n",
       " ('000167f209', 10, 9.752999999999998),\n",
       " ('000196878a', 9, 5.827599999999999),\n",
       " ('0001d62c16', 3, 10.622599999999998),\n",
       " ('0001fbf606', 6, 3.89),\n",
       " ('0002453da9', 9, 5.416499999999994),\n",
       " ('00028b6fd9', 19, 10.85799999999999),\n",
       " ('0002b500b8', 9, 4.541954972885483)]"
      ]
     },
     "execution_count": 23,
     "metadata": {},
     "output_type": "execute_result"
    }
   ],
   "source": [
    "%%sql \n",
    "\n",
    "SELECT PURCHASE_ID, ITEMS_PURCHASED, TOTAL_PROFIT_EUR_PER_PURCHASE_ID FROM purchase_profit LIMIT 10"
   ]
  },
  {
   "cell_type": "markdown",
   "id": "ece8c2d0",
   "metadata": {},
   "source": [
    "The above table shows the profitability for each purchase in EUR in the column TOTAL_PROFIT_EUR_PER_PURCHASE_ID"
   ]
  },
  {
   "cell_type": "markdown",
   "id": "66a9a8ff",
   "metadata": {},
   "source": [
    "### Top 10 venues with the highest margins, and plotting the relationship between the margin and average order size"
   ]
  },
  {
   "cell_type": "markdown",
   "id": "44bd4ac2",
   "metadata": {},
   "source": [
    "Calculating the Margin"
   ]
  },
  {
   "cell_type": "code",
   "execution_count": 24,
   "id": "62942437",
   "metadata": {},
   "outputs": [
    {
     "name": "stdout",
     "output_type": "stream",
     "text": [
      " * sqlite:///wolt_bi\n",
      "Done.\n",
      "Returning data to local variable v\n"
     ]
    }
   ],
   "source": [
    "%%sql  v <<\n",
    "\n",
    "Select \n",
    "\n",
    "VENUE_ID,\n",
    "\n",
    "AVG(ITEMS_PURCHASED) as ORDER_SIZE_AVG_VENUE,\n",
    "\n",
    "SUM(TOTAL_PROFIT_EUR_PER_PURCHASE_ID) as TOTAL_PROFIT_VENUE,\n",
    "\n",
    "SUM(REVENUE_EUR) as TOTAL_REVENUE_ERU_VENUE,\n",
    "\n",
    "SUM(TOTAL_PROFIT_EUR_PER_PURCHASE_ID)/SUM(REVENUE_EUR) as MARGIN\n",
    "\n",
    "FROM purchase_profit\n",
    "\n",
    "GROUP BY VENUE_ID\n",
    "\n",
    "ORDER BY MARGIN DESC LIMIT 10"
   ]
  },
  {
   "cell_type": "code",
   "execution_count": 25,
   "id": "df9f1a2a",
   "metadata": {},
   "outputs": [
    {
     "name": "stdout",
     "output_type": "stream",
     "text": [
      " * sqlite:///wolt_bi\n",
      "Done.\n"
     ]
    },
    {
     "data": {
      "text/html": [
       "<table>\n",
       "    <tr>\n",
       "        <th>VENUE_ID</th>\n",
       "        <th>MARGIN</th>\n",
       "    </tr>\n",
       "    <tr>\n",
       "        <td>5c47e55304</td>\n",
       "        <td>0.42517269679656067</td>\n",
       "    </tr>\n",
       "    <tr>\n",
       "        <td>da2b0f9a4f</td>\n",
       "        <td>0.41882847491799247</td>\n",
       "    </tr>\n",
       "    <tr>\n",
       "        <td>30aa68237d</td>\n",
       "        <td>0.41866240173519975</td>\n",
       "    </tr>\n",
       "    <tr>\n",
       "        <td>3ff48b25c6</td>\n",
       "        <td>0.41487905282883525</td>\n",
       "    </tr>\n",
       "    <tr>\n",
       "        <td>6adc2fbb91</td>\n",
       "        <td>0.4146686137498945</td>\n",
       "    </tr>\n",
       "    <tr>\n",
       "        <td>5f4216ac52</td>\n",
       "        <td>0.40676559149308394</td>\n",
       "    </tr>\n",
       "    <tr>\n",
       "        <td>df6a0cc4bf</td>\n",
       "        <td>0.4060864063553473</td>\n",
       "    </tr>\n",
       "    <tr>\n",
       "        <td>b2c886cd0a</td>\n",
       "        <td>0.4060128699903163</td>\n",
       "    </tr>\n",
       "    <tr>\n",
       "        <td>b898e9010e</td>\n",
       "        <td>0.4054456849969676</td>\n",
       "    </tr>\n",
       "    <tr>\n",
       "        <td>4b04f31451</td>\n",
       "        <td>0.40468366088948626</td>\n",
       "    </tr>\n",
       "</table>"
      ],
      "text/plain": [
       "[('5c47e55304', 0.42517269679656067),\n",
       " ('da2b0f9a4f', 0.41882847491799247),\n",
       " ('30aa68237d', 0.41866240173519975),\n",
       " ('3ff48b25c6', 0.41487905282883525),\n",
       " ('6adc2fbb91', 0.4146686137498945),\n",
       " ('5f4216ac52', 0.40676559149308394),\n",
       " ('df6a0cc4bf', 0.4060864063553473),\n",
       " ('b2c886cd0a', 0.4060128699903163),\n",
       " ('b898e9010e', 0.4054456849969676),\n",
       " ('4b04f31451', 0.40468366088948626)]"
      ]
     },
     "execution_count": 25,
     "metadata": {},
     "output_type": "execute_result"
    }
   ],
   "source": [
    "%%sql\n",
    "\n",
    "Select \n",
    "\n",
    "VENUE_ID,\n",
    "\n",
    "SUM(TOTAL_PROFIT_EUR_PER_PURCHASE_ID)/SUM(REVENUE_EUR) as MARGIN\n",
    "\n",
    "FROM purchase_profit\n",
    "\n",
    "GROUP BY VENUE_ID\n",
    "\n",
    "ORDER BY MARGIN DESC LIMIT 10"
   ]
  },
  {
   "cell_type": "markdown",
   "id": "dd7344e0",
   "metadata": {},
   "source": [
    " The above table gives the top 10 venues with the highest margins"
   ]
  },
  {
   "cell_type": "code",
   "execution_count": 26,
   "id": "a4ae7e9c",
   "metadata": {},
   "outputs": [],
   "source": [
    "venue_data=v.DataFrame()"
   ]
  },
  {
   "cell_type": "code",
   "execution_count": 27,
   "id": "2db6d3c2",
   "metadata": {},
   "outputs": [
    {
     "data": {
      "image/png": "[encoded data removed]",
      "text/plain": [
       "<Figure size 640x480 with 1 Axes>"
      ]
     },
     "metadata": {},
     "output_type": "display_data"
    }
   ],
   "source": [
    "# Creating a Scatter Plot\n",
    "\n",
    "plt.scatter(venue_data['ORDER_SIZE_AVG_VENUE'],venue_data['MARGIN'])\n",
    "\n",
    "# Adding axis, labels and title\n",
    "\n",
    "plt.xlabel('ORDER_SIZE_AVG_VENUE')\n",
    "plt.ylabel('MARGIN')\n",
    "plt.title('Average order size VS Margin')\n",
    "\n",
    "# Displaying plot\n",
    "plt.show()"
   ]
  },
  {
   "cell_type": "markdown",
   "id": "df5d2f0c",
   "metadata": {},
   "source": [
    "#### Top 5 countries based on average order size"
   ]
  },
  {
   "cell_type": "code",
   "execution_count": 28,
   "id": "1cb40744",
   "metadata": {},
   "outputs": [
    {
     "name": "stdout",
     "output_type": "stream",
     "text": [
      " * sqlite:///wolt_bi\n",
      "Done.\n"
     ]
    },
    {
     "data": {
      "text/html": [
       "<table>\n",
       "    <tr>\n",
       "        <th>COUNTRY</th>\n",
       "        <th>AVG_ORDER_SIZE_COUNTRY</th>\n",
       "    </tr>\n",
       "    <tr>\n",
       "        <td>SVK</td>\n",
       "        <td>19.611546118115463</td>\n",
       "    </tr>\n",
       "    <tr>\n",
       "        <td>FIN</td>\n",
       "        <td>17.014979189387702</td>\n",
       "    </tr>\n",
       "    <tr>\n",
       "        <td>DNK</td>\n",
       "        <td>16.752544084517982</td>\n",
       "    </tr>\n",
       "    <tr>\n",
       "        <td>LVA</td>\n",
       "        <td>16.35171568627451</td>\n",
       "    </tr>\n",
       "    <tr>\n",
       "        <td>LTU</td>\n",
       "        <td>14.833807323142553</td>\n",
       "    </tr>\n",
       "</table>"
      ],
      "text/plain": [
       "[('SVK', 19.611546118115463),\n",
       " ('FIN', 17.014979189387702),\n",
       " ('DNK', 16.752544084517982),\n",
       " ('LVA', 16.35171568627451),\n",
       " ('LTU', 14.833807323142553)]"
      ]
     },
     "execution_count": 28,
     "metadata": {},
     "output_type": "execute_result"
    }
   ],
   "source": [
    "%%sql\n",
    "\n",
    "Select \n",
    "\n",
    "COUNTRY,\n",
    "\n",
    "AVG(ITEMS_PURCHASED) as AVG_ORDER_SIZE_COUNTRY\n",
    "\n",
    "FROM purchase_profit\n",
    "\n",
    "GROUP BY COUNTRY\n",
    "\n",
    "ORDER BY AVG_ORDER_SIZE_COUNTRY DESC\n",
    "\n",
    "LIMIT 5"
   ]
  },
  {
   "cell_type": "markdown",
   "id": "076dc425",
   "metadata": {},
   "source": [
    " #### Top 5 countries based on average order value"
   ]
  },
  {
   "cell_type": "code",
   "execution_count": 29,
   "id": "6304d20e",
   "metadata": {},
   "outputs": [
    {
     "name": "stdout",
     "output_type": "stream",
     "text": [
      " * sqlite:///wolt_bi\n",
      "Done.\n"
     ]
    },
    {
     "data": {
      "text/html": [
       "<table>\n",
       "    <tr>\n",
       "        <th>COUNTRY</th>\n",
       "        <th>AVG_ORDER_VAL_COUNTRY</th>\n",
       "    </tr>\n",
       "    <tr>\n",
       "        <td>DNK</td>\n",
       "        <td>52.14788055175958</td>\n",
       "    </tr>\n",
       "    <tr>\n",
       "        <td>ISR</td>\n",
       "        <td>49.05795529128801</td>\n",
       "    </tr>\n",
       "    <tr>\n",
       "        <td>FIN</td>\n",
       "        <td>41.93289790558406</td>\n",
       "    </tr>\n",
       "    <tr>\n",
       "        <td>NOR</td>\n",
       "        <td>41.692825162655005</td>\n",
       "    </tr>\n",
       "    <tr>\n",
       "        <td>CYP</td>\n",
       "        <td>37.90570788294242</td>\n",
       "    </tr>\n",
       "</table>"
      ],
      "text/plain": [
       "[('DNK', 52.14788055175958),\n",
       " ('ISR', 49.05795529128801),\n",
       " ('FIN', 41.93289790558406),\n",
       " ('NOR', 41.692825162655005),\n",
       " ('CYP', 37.90570788294242)]"
      ]
     },
     "execution_count": 29,
     "metadata": {},
     "output_type": "execute_result"
    }
   ],
   "source": [
    "%%sql\n",
    "\n",
    "Select \n",
    "\n",
    "COUNTRY,\n",
    "\n",
    "AVG(REVENUE_EUR) as AVG_ORDER_VAL_COUNTRY\n",
    "\n",
    "FROM purchase_profit\n",
    "\n",
    "GROUP BY COUNTRY\n",
    "\n",
    "ORDER BY AVG_ORDER_VAL_COUNTRY DESC\n",
    "\n",
    "LIMIT 5"
   ]
  },
  {
   "cell_type": "markdown",
   "id": "813ee4e3",
   "metadata": {},
   "source": [
    " #### Top 5 countries based on order volume"
   ]
  },
  {
   "cell_type": "code",
   "execution_count": 30,
   "id": "747fa093",
   "metadata": {},
   "outputs": [
    {
     "name": "stdout",
     "output_type": "stream",
     "text": [
      " * sqlite:///wolt_bi\n",
      "Done.\n"
     ]
    },
    {
     "data": {
      "text/html": [
       "<table>\n",
       "    <tr>\n",
       "        <th>COUNTRY</th>\n",
       "        <th>ORDER_VOL_COUNTRY</th>\n",
       "    </tr>\n",
       "    <tr>\n",
       "        <td>FIN</td>\n",
       "        <td>764466</td>\n",
       "    </tr>\n",
       "    <tr>\n",
       "        <td>DNK</td>\n",
       "        <td>431311</td>\n",
       "    </tr>\n",
       "    <tr>\n",
       "        <td>GRC</td>\n",
       "        <td>239614</td>\n",
       "    </tr>\n",
       "    <tr>\n",
       "        <td>HUN</td>\n",
       "        <td>239280</td>\n",
       "    </tr>\n",
       "    <tr>\n",
       "        <td>EST</td>\n",
       "        <td>188224</td>\n",
       "    </tr>\n",
       "</table>"
      ],
      "text/plain": [
       "[('FIN', 764466),\n",
       " ('DNK', 431311),\n",
       " ('GRC', 239614),\n",
       " ('HUN', 239280),\n",
       " ('EST', 188224)]"
      ]
     },
     "execution_count": 30,
     "metadata": {},
     "output_type": "execute_result"
    }
   ],
   "source": [
    "%%sql\n",
    "\n",
    "Select \n",
    "\n",
    "COUNTRY,\n",
    "\n",
    "SUM(ITEMS_PURCHASED) as ORDER_VOL_COUNTRY\n",
    "\n",
    "FROM purchase_profit\n",
    "\n",
    "GROUP BY COUNTRY\n",
    "\n",
    "ORDER BY ORDER_VOL_COUNTRY DESC\n",
    "\n",
    "LIMIT 5"
   ]
  },
  {
   "cell_type": "markdown",
   "id": "f1c40c27",
   "metadata": {},
   "source": [
    "#### Monthly cumulative Woltwide (i.e. global) margin"
   ]
  },
  {
   "cell_type": "code",
   "execution_count": 31,
   "id": "a81dbbcb",
   "metadata": {},
   "outputs": [
    {
     "name": "stdout",
     "output_type": "stream",
     "text": [
      " * sqlite:///wolt_bi\n",
      "Done.\n",
      "Returning data to local variable tm\n"
     ]
    }
   ],
   "source": [
    "%%sql   tm <<\n",
    "\n",
    "Select \n",
    "\n",
    "STRFTIME(\"%m-%Y\", TIME_RECEIVED) as DATE,\n",
    "\n",
    "AVG(ITEMS_PURCHASED) as ORDER_SIZE_AVG_VENUE,\n",
    "\n",
    "SUM(TOTAL_PROFIT_EUR_PER_PURCHASE_ID) as TOTAL_PROFIT_VENUE,\n",
    "\n",
    "SUM(REVENUE_EUR) as TOTAL_REVENUE_ERU_VENUE,\n",
    "\n",
    "SUM(TOTAL_PROFIT_EUR_PER_PURCHASE_ID) OVER (ORDER BY STRFTIME(\"%m-%Y\", TIME_RECEIVED) ROWS UNBOUNDED PRECEDING)/\n",
    "SUM(REVENUE_EUR) OVER (ORDER BY STRFTIME(\"%m-%Y\", TIME_RECEIVED) ROWS UNBOUNDED PRECEDING) as MARGIN\n",
    "\n",
    "FROM purchase_profit\n",
    "\n",
    "GROUP BY STRFTIME(\"%m-%Y\", TIME_RECEIVED)\n",
    "\n",
    "ORDER BY MARGIN"
   ]
  },
  {
   "cell_type": "code",
   "execution_count": 32,
   "id": "07524a11",
   "metadata": {},
   "outputs": [],
   "source": [
    "montly_cumulative_margin=tm.DataFrame()"
   ]
  },
  {
   "cell_type": "markdown",
   "id": "84c62cac",
   "metadata": {},
   "source": [
    "#### Plotting the monthly cumulative Woltwide (i.e. global) margin"
   ]
  },
  {
   "cell_type": "code",
   "execution_count": 33,
   "id": "29097083",
   "metadata": {},
   "outputs": [
    {
     "data": {
      "image/png": "[encoded data removed]",
      "text/plain": [
       "<Figure size 640x480 with 1 Axes>"
      ]
     },
     "metadata": {},
     "output_type": "display_data"
    }
   ],
   "source": [
    "# create a line plot\n",
    "plt.plot(montly_cumulative_margin['DATE'], montly_cumulative_margin['MARGIN'])\n",
    "\n",
    "# add axis labels and a title\n",
    "plt.xlabel('Date')\n",
    "plt.ylabel('Cumulative Margin')\n",
    "plt.title('Monthly Cumulative Worldwide Margin')\n",
    "\n",
    "# display the plot\n",
    "plt.show()"
   ]
  },
  {
   "cell_type": "markdown",
   "id": "a1a32fd4",
   "metadata": {},
   "source": [
    "#### Assumptions about data"
   ]
  },
  {
   "cell_type": "markdown",
   "id": "196941cf",
   "metadata": {},
   "source": [
    "1. I took the assumption that the rate of the currencies at the time of cost incurred and when the items were purchased was the same to make the currency conversion accurate, otherwise the profitability and margin calculation would be inconsistant."
   ]
  },
  {
   "cell_type": "markdown",
   "id": "121c298e",
   "metadata": {},
   "source": [
    "#### Problems with the data"
   ]
  },
  {
   "cell_type": "markdown",
   "id": "c068c379",
   "metadata": {},
   "source": [
    "1. The currency in which the items were purchased, in many instances, was different form the currency in which we incurrered the cost of the item. To solve this issue I had to create a saperate table with all the currencies in the data and their conversion factors to euroes. Thus, while making calculations I converted the currencies to euro."
   ]
  },
  {
   "cell_type": "markdown",
   "id": "28ab3151",
   "metadata": {},
   "source": [
    "#### Additional data sources or business information required to improve the solution"
   ]
  },
  {
   "cell_type": "markdown",
   "id": "55bd7932",
   "metadata": {},
   "source": [
    "1. The rate of currencies are dynamic and change a lot, So to improve the profitability and margin calculation we would need the latest currency values.\n",
    "2. There were many empty rows in the data, so if all the data is propulated properly without leaving empty rows, it would improve the solution."
   ]
  }
 ],
 "metadata": {
  "kernelspec": {
   "display_name": "Python 3 (ipykernel)",
   "language": "python",
   "name": "python3"
  },
  "language_info": {
   "codemirror_mode": {
    "name": "ipython",
    "version": 3
   },
   "file_extension": ".py",
   "mimetype": "text/x-python",
   "name": "python",
   "nbconvert_exporter": "python",
   "pygments_lexer": "ipython3",
   "version": "3.11.0"
  }
 },
 "nbformat": 4,
 "nbformat_minor": 5
}
